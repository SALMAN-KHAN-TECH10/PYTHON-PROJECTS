{
 "cells": [
  {
   "cell_type": "markdown",
   "id": "86e7111d",
   "metadata": {},
   "source": [
    "## FIRST PROJECT IN PYTHON PROGRAMMING \n",
    "\n",
    "### Rock Paper Scissors Game in Python Programming \n"
   ]
  },
  {
   "cell_type": "code",
   "execution_count": 6,
   "id": "b1765db0",
   "metadata": {},
   "outputs": [
    {
     "name": "stdout",
     "output_type": "stream",
     "text": [
      "HUMAN :: rock\n",
      "MACHINE ::  paper\n",
      "MACHINE WIN !!\n",
      "HUMAN :: paper\n",
      "MACHINE ::  rock\n",
      "HUMANS WIN !!\n",
      "THANKS FOR PLAYING WITH ME \n"
     ]
    }
   ],
   "source": [
    "import random\n",
    "\n",
    "options = (\"paper\",\"rock\",\"scissor\")\n",
    "running = True\n",
    "\n",
    "while running :\n",
    "    player = None\n",
    "    computer = random.choice(options)\n",
    "    \n",
    "    while player not in options:\n",
    "        player=input(\"enter a valid input \")\n",
    "    \n",
    "    print(f\"HUMAN :: {player}\")\n",
    "    print(f\"MACHINE ::  {computer}\")\n",
    "    \n",
    "    if player == computer:\n",
    "        print(\"ITS A TIE !!!\")\n",
    "    elif (player == \"rock\") and (computer == \"scissor\"):\n",
    "        print(\"HUMAN WINS !!\")\n",
    "    elif (player ==\" scissor \") and (computer == \"paper\"):\n",
    "        print(\" HUMAN WIN !! \")\n",
    "    elif(player == \"paper\") and (computer == 'rock'):\n",
    "        print(\"HUMANS WIN !!\")\n",
    "    else:\n",
    "        print(\"MACHINE WIN !!\")\n",
    "    \n",
    "    if not input(\"PLAY AGAIN (Y/N) :: \").lower() == \"y\":\n",
    "        running = False\n",
    "        \n",
    "print(\"THANKS FOR PLAYING WITH ME \")\n",
    "        \n",
    "        "
   ]
  }
 ],
 "metadata": {
  "kernelspec": {
   "display_name": "base",
   "language": "python",
   "name": "python3"
  },
  "language_info": {
   "codemirror_mode": {
    "name": "ipython",
    "version": 3
   },
   "file_extension": ".py",
   "mimetype": "text/x-python",
   "name": "python",
   "nbconvert_exporter": "python",
   "pygments_lexer": "ipython3",
   "version": "3.12.7"
  }
 },
 "nbformat": 4,
 "nbformat_minor": 5
}
