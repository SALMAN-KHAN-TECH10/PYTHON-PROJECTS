{
 "cells": [
  {
   "cell_type": "markdown",
   "id": "f6f629cc",
   "metadata": {},
   "source": [
    "## 3RD PROJECT IN PYTHON PROGRAMMING \n",
    "\n",
    "## Password Generator in Python "
   ]
  },
  {
   "cell_type": "code",
   "execution_count": 7,
   "id": "9abce341",
   "metadata": {},
   "outputs": [
    {
     "name": "stdout",
     "output_type": "stream",
     "text": [
      "WELCOME TO PASSWORD GENERATOR \n",
      "['r', 's', 'k', 'o', 'a', 'h', 'r', 's', 'b', '4', '7', '5', '1', '4', '#', '^', '@', '%']\n",
      "['r', '5', 'h', 'r', '4', 'k', '4', '7', 'a', 's', '@', 'b', 'o', '^', '%', '#', '1', 's']\n",
      "r5hr4k47as@bo^%#1s\n"
     ]
    }
   ],
   "source": [
    "import random \n",
    "\n",
    "letters=['a','b','c','d','e','f','g','h','i','j','k',\n",
    "        'l','m','n','o','p','q','r''s','t','u','v',\n",
    "        'w','x','y','z']\n",
    "\n",
    "numbers=['0','1','2','3','4','5','6','7','8','9']\n",
    "\n",
    "symbols=['!','@','#','$','%','^','&','*','(',')']\n",
    "print(\"WELCOME TO PASSWORD GENERATOR \")\n",
    "\n",
    "num_of_letters=int(input(\"HOW MANY LETTER YOU WANT IN YOUR PASSWORD  ?? \\n\"))\n",
    "num_of_numbers=int(input(\"HOW MANY NUMBERS YOU WANT IN YOUR PASSWORD ?? \\n\"))\n",
    "num_of_symbols=int(input(\"HOW MANY SYMBOLS YOU WANT IN YOUR PASSWORD ?? \\n\"))\n",
    "\n",
    "password_list = []\n",
    "for i in range(1,num_of_letters+1):\n",
    "    char=random.choice(letters)\n",
    "    password_list += char  \n",
    "\n",
    "for i in range(1,num_of_numbers):\n",
    "    char=random.choice(numbers)\n",
    "    password_list += char  \n",
    "\n",
    "for i in range(1,num_of_symbols):\n",
    "    char = random.choice(symbols)\n",
    "    password_list += char\n",
    "\n",
    "print(password_list)            #BEFORE SHUFFLE THE PASSWORD IS \n",
    "random.shuffle(password_list)\n",
    "print(password_list)            #AFTER SHUFFLE THE PASSWORD IS \n",
    "\n",
    "password = \"\"\n",
    "for char in password_list:\n",
    "    password += char\n",
    "\n",
    "print(password)                 # AFTER CONVERTING TO CHAR AGAIN "
   ]
  }
 ],
 "metadata": {
  "kernelspec": {
   "display_name": "base",
   "language": "python",
   "name": "python3"
  },
  "language_info": {
   "codemirror_mode": {
    "name": "ipython",
    "version": 3
   },
   "file_extension": ".py",
   "mimetype": "text/x-python",
   "name": "python",
   "nbconvert_exporter": "python",
   "pygments_lexer": "ipython3",
   "version": "3.13.5"
  }
 },
 "nbformat": 4,
 "nbformat_minor": 5
}
