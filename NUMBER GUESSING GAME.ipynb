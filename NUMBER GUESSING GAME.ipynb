{
 "cells": [
  {
   "cell_type": "markdown",
   "id": "7d20c102",
   "metadata": {},
   "source": [
    "## 2ND PROJECT IN PYTHON PROGRAMMING \n",
    "\n",
    "### NUMBER GUESSING GAME IN PYTHON PROGRAMMING "
   ]
  },
  {
   "cell_type": "code",
   "execution_count": null,
   "id": "44e2963f",
   "metadata": {},
   "outputs": [
    {
     "name": "stdout",
     "output_type": "stream",
     "text": [
      "\n",
      "Attempt 1 of 10\n",
      "YOUR GUESS IS TOO HIGH  \n",
      "\n",
      "Attempt 2 of 10\n",
      "YOUR GUESS IS TOO HIGH  \n",
      "\n",
      "Attempt 3 of 10\n",
      "YOUR GUESS IS TOO HIGH  \n",
      "\n",
      "Attempt 4 of 10\n",
      "YOUR GUESS IS TOO HIGH  \n",
      "\n",
      "Attempt 5 of 10\n",
      "YOUR GUESS IS TOO LOW  \n",
      "\n",
      "Attempt 6 of 10\n",
      "YOUR GUESS IS TOO LOW  \n",
      "\n",
      "Attempt 7 of 10\n",
      "YOUR GUESS IS TOO HIGH  \n",
      "\n",
      "Attempt 8 of 10\n",
      "YOUR GUESS IS TOO HIGH  \n",
      "\n",
      "Attempt 9 of 10\n",
      "YOUR GUESS NUMBER IS  EQUAL TOO THE NUMBER \n"
     ]
    }
   ],
   "source": [
    "import random\n",
    "\n",
    "computer_number=random.randrange(1,100)\n",
    "\n",
    "for attempt in range(1, 11):\n",
    "    print(f\"\\n Attempt {attempt} of 10\")\n",
    "    user_input = int(input(\"Enter your guess (1–100): \"))\n",
    "\n",
    "    if user_input > computer_number:\n",
    "        print(\"YOUR GUESS IS TOO HIGH  \")\n",
    "\n",
    "    elif user_input < computer_number:\n",
    "        print(\"YOUR GUESS IS TOO LOW  \")\n",
    "        \n",
    "    else:\n",
    "        print(\"YOUR GUESS NUMBER IS  EQUAL TOO THE NUMBER \")\n",
    "        break\n",
    "else:\n",
    "     print(f\"\\n You’ve used all 10 attempts. The correct number was {computer_number}.\")"
   ]
  }
 ],
 "metadata": {
  "kernelspec": {
   "display_name": "base",
   "language": "python",
   "name": "python3"
  },
  "language_info": {
   "codemirror_mode": {
    "name": "ipython",
    "version": 3
   },
   "file_extension": ".py",
   "mimetype": "text/x-python",
   "name": "python",
   "nbconvert_exporter": "python",
   "pygments_lexer": "ipython3",
   "version": "3.13.5"
  }
 },
 "nbformat": 4,
 "nbformat_minor": 5
}
